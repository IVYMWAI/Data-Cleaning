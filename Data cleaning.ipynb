{
 "cells": [
  {
   "cell_type": "code",
   "execution_count": 89,
   "metadata": {},
   "outputs": [],
   "source": [
    "#Loading the data in jupyter notebook\n",
    "import numpy as np\n",
    "import pandas as pd\n",
    "import seaborn as sns\n",
    "import datetime\n",
    "data=pd.read_csv(\"Airbnb_data.csv\")"
   ]
  },
  {
   "cell_type": "code",
   "execution_count": 109,
   "metadata": {},
   "outputs": [
    {
     "name": "stdout",
     "output_type": "stream",
     "text": [
      "Index(['id', 'name', 'host_id', 'host_identity_verified', 'host_name',\n",
      "       'neighbourhood_group', 'neighbourhood', 'latitude', 'longitude',\n",
      "       'country', 'country_code', 'instant_bookable', 'cancellation_policy',\n",
      "       'room_type', 'Construction_year', 'price', 'service_fee',\n",
      "       'minimum_nights', 'number_of_reviews', 'last_review',\n",
      "       'reviews_per_month', 'review_rate_number',\n",
      "       'calculated_host_listings_count', 'availability_365', 'house_rules',\n",
      "       'license'],\n",
      "      dtype='object')\n"
     ]
    }
   ],
   "source": [
    "#Changing the dataheads to snake_case\n",
    "data.columns=data.columns.str.replace(\" \",\"_\")\n",
    "print(data.columns)"
   ]
  },
  {
   "cell_type": "code",
   "execution_count": 91,
   "metadata": {},
   "outputs": [
    {
     "data": {
      "text/html": [
       "<div>\n",
       "<style scoped>\n",
       "    .dataframe tbody tr th:only-of-type {\n",
       "        vertical-align: middle;\n",
       "    }\n",
       "\n",
       "    .dataframe tbody tr th {\n",
       "        vertical-align: top;\n",
       "    }\n",
       "\n",
       "    .dataframe thead th {\n",
       "        text-align: right;\n",
       "    }\n",
       "</style>\n",
       "<table border=\"1\" class=\"dataframe\">\n",
       "  <thead>\n",
       "    <tr style=\"text-align: right;\">\n",
       "      <th></th>\n",
       "      <th>id</th>\n",
       "      <th>name</th>\n",
       "      <th>host_id</th>\n",
       "      <th>host_identity_verified</th>\n",
       "      <th>host_name</th>\n",
       "      <th>neighbourhood_group</th>\n",
       "      <th>neighbourhood</th>\n",
       "      <th>latitude</th>\n",
       "      <th>longitude</th>\n",
       "      <th>country</th>\n",
       "      <th>...</th>\n",
       "      <th>service_fee</th>\n",
       "      <th>minimum_nights</th>\n",
       "      <th>number_of_reviews</th>\n",
       "      <th>last_review</th>\n",
       "      <th>reviews_per_month</th>\n",
       "      <th>review_rate_number</th>\n",
       "      <th>calculated_host_listings_count</th>\n",
       "      <th>availability_365</th>\n",
       "      <th>house_rules</th>\n",
       "      <th>license</th>\n",
       "    </tr>\n",
       "  </thead>\n",
       "  <tbody>\n",
       "    <tr>\n",
       "      <th>0</th>\n",
       "      <td>1001254</td>\n",
       "      <td>Clean &amp; quiet apt home by the park</td>\n",
       "      <td>80014485718</td>\n",
       "      <td>unconfirmed</td>\n",
       "      <td>Madaline</td>\n",
       "      <td>Brooklyn</td>\n",
       "      <td>Kensington</td>\n",
       "      <td>40.64749</td>\n",
       "      <td>-73.97237</td>\n",
       "      <td>United States</td>\n",
       "      <td>...</td>\n",
       "      <td>$193</td>\n",
       "      <td>10.0</td>\n",
       "      <td>9.0</td>\n",
       "      <td>10/19/2021</td>\n",
       "      <td>0.21</td>\n",
       "      <td>4.0</td>\n",
       "      <td>6.0</td>\n",
       "      <td>286.0</td>\n",
       "      <td>Clean up and treat the home the way you'd like...</td>\n",
       "      <td>NaN</td>\n",
       "    </tr>\n",
       "    <tr>\n",
       "      <th>1</th>\n",
       "      <td>1002102</td>\n",
       "      <td>Skylit Midtown Castle</td>\n",
       "      <td>52335172823</td>\n",
       "      <td>verified</td>\n",
       "      <td>Jenna</td>\n",
       "      <td>Manhattan</td>\n",
       "      <td>Midtown</td>\n",
       "      <td>40.75362</td>\n",
       "      <td>-73.98377</td>\n",
       "      <td>United States</td>\n",
       "      <td>...</td>\n",
       "      <td>$28</td>\n",
       "      <td>30.0</td>\n",
       "      <td>45.0</td>\n",
       "      <td>5/21/2022</td>\n",
       "      <td>0.38</td>\n",
       "      <td>4.0</td>\n",
       "      <td>2.0</td>\n",
       "      <td>228.0</td>\n",
       "      <td>Pet friendly but please confirm with me if the...</td>\n",
       "      <td>NaN</td>\n",
       "    </tr>\n",
       "    <tr>\n",
       "      <th>2</th>\n",
       "      <td>1002403</td>\n",
       "      <td>THE VILLAGE OF HARLEM....NEW YORK !</td>\n",
       "      <td>78829239556</td>\n",
       "      <td>NaN</td>\n",
       "      <td>Elise</td>\n",
       "      <td>Manhattan</td>\n",
       "      <td>Harlem</td>\n",
       "      <td>40.80902</td>\n",
       "      <td>-73.94190</td>\n",
       "      <td>United States</td>\n",
       "      <td>...</td>\n",
       "      <td>$124</td>\n",
       "      <td>3.0</td>\n",
       "      <td>0.0</td>\n",
       "      <td>last review</td>\n",
       "      <td>reviews per month</td>\n",
       "      <td>5.0</td>\n",
       "      <td>1.0</td>\n",
       "      <td>352.0</td>\n",
       "      <td>I encourage you to use my kitchen, cooking and...</td>\n",
       "      <td>NaN</td>\n",
       "    </tr>\n",
       "    <tr>\n",
       "      <th>3</th>\n",
       "      <td>1002755</td>\n",
       "      <td>NaN</td>\n",
       "      <td>85098326012</td>\n",
       "      <td>unconfirmed</td>\n",
       "      <td>Garry</td>\n",
       "      <td>Brooklyn</td>\n",
       "      <td>Clinton Hill</td>\n",
       "      <td>40.68514</td>\n",
       "      <td>-73.95976</td>\n",
       "      <td>United States</td>\n",
       "      <td>...</td>\n",
       "      <td>$74</td>\n",
       "      <td>30.0</td>\n",
       "      <td>270.0</td>\n",
       "      <td>10/19/2022</td>\n",
       "      <td>0.55</td>\n",
       "      <td>4.0</td>\n",
       "      <td>1.0</td>\n",
       "      <td>322.0</td>\n",
       "      <td>NaN</td>\n",
       "      <td>NaN</td>\n",
       "    </tr>\n",
       "    <tr>\n",
       "      <th>4</th>\n",
       "      <td>1003689</td>\n",
       "      <td>Entire Apt: Spacious Studio/Loft by central park</td>\n",
       "      <td>92037596077</td>\n",
       "      <td>verified</td>\n",
       "      <td>Lyndon</td>\n",
       "      <td>Manhattan</td>\n",
       "      <td>East Harlem</td>\n",
       "      <td>40.79851</td>\n",
       "      <td>-73.94399</td>\n",
       "      <td>United States</td>\n",
       "      <td>...</td>\n",
       "      <td>$41</td>\n",
       "      <td>10.0</td>\n",
       "      <td>9.0</td>\n",
       "      <td>5/21/2023</td>\n",
       "      <td>0.72</td>\n",
       "      <td>3.0</td>\n",
       "      <td>1.0</td>\n",
       "      <td>289.0</td>\n",
       "      <td>Please no smoking in the house, porch or on th...</td>\n",
       "      <td>NaN</td>\n",
       "    </tr>\n",
       "  </tbody>\n",
       "</table>\n",
       "<p>5 rows × 26 columns</p>\n",
       "</div>"
      ],
      "text/plain": [
       "        id                                              name      host_id  \\\n",
       "0  1001254                Clean & quiet apt home by the park  80014485718   \n",
       "1  1002102                             Skylit Midtown Castle  52335172823   \n",
       "2  1002403               THE VILLAGE OF HARLEM....NEW YORK !  78829239556   \n",
       "3  1002755                                               NaN  85098326012   \n",
       "4  1003689  Entire Apt: Spacious Studio/Loft by central park  92037596077   \n",
       "\n",
       "  host_identity_verified host_name neighbourhood_group neighbourhood  \\\n",
       "0            unconfirmed  Madaline            Brooklyn    Kensington   \n",
       "1               verified     Jenna           Manhattan       Midtown   \n",
       "2                    NaN     Elise           Manhattan        Harlem   \n",
       "3            unconfirmed     Garry            Brooklyn  Clinton Hill   \n",
       "4               verified    Lyndon           Manhattan   East Harlem   \n",
       "\n",
       "   latitude  longitude        country  ... service_fee minimum_nights  \\\n",
       "0  40.64749  -73.97237  United States  ...       $193            10.0   \n",
       "1  40.75362  -73.98377  United States  ...        $28            30.0   \n",
       "2  40.80902  -73.94190  United States  ...       $124             3.0   \n",
       "3  40.68514  -73.95976  United States  ...        $74            30.0   \n",
       "4  40.79851  -73.94399  United States  ...        $41            10.0   \n",
       "\n",
       "  number_of_reviews  last_review  reviews_per_month review_rate_number  \\\n",
       "0               9.0   10/19/2021               0.21                4.0   \n",
       "1              45.0    5/21/2022               0.38                4.0   \n",
       "2               0.0  last review  reviews per month                5.0   \n",
       "3             270.0   10/19/2022               0.55                4.0   \n",
       "4               9.0    5/21/2023               0.72                3.0   \n",
       "\n",
       "  calculated_host_listings_count  availability_365  \\\n",
       "0                            6.0             286.0   \n",
       "1                            2.0             228.0   \n",
       "2                            1.0             352.0   \n",
       "3                            1.0             322.0   \n",
       "4                            1.0             289.0   \n",
       "\n",
       "                                         house_rules license  \n",
       "0  Clean up and treat the home the way you'd like...     NaN  \n",
       "1  Pet friendly but please confirm with me if the...     NaN  \n",
       "2  I encourage you to use my kitchen, cooking and...     NaN  \n",
       "3                                                NaN     NaN  \n",
       "4  Please no smoking in the house, porch or on th...     NaN  \n",
       "\n",
       "[5 rows x 26 columns]"
      ]
     },
     "execution_count": 91,
     "metadata": {},
     "output_type": "execute_result"
    }
   ],
   "source": [
    "\n",
    "#Getting general informatin about the dataset\n",
    "data.head()"
   ]
  },
  {
   "cell_type": "markdown",
   "metadata": {},
   "source": [
    "From the sample dataset shown above(the first five rows),it is clear that there are some missing values."
   ]
  },
  {
   "cell_type": "code",
   "execution_count": 92,
   "metadata": {},
   "outputs": [
    {
     "data": {
      "text/html": [
       "<div>\n",
       "<style scoped>\n",
       "    .dataframe tbody tr th:only-of-type {\n",
       "        vertical-align: middle;\n",
       "    }\n",
       "\n",
       "    .dataframe tbody tr th {\n",
       "        vertical-align: top;\n",
       "    }\n",
       "\n",
       "    .dataframe thead th {\n",
       "        text-align: right;\n",
       "    }\n",
       "</style>\n",
       "<table border=\"1\" class=\"dataframe\">\n",
       "  <thead>\n",
       "    <tr style=\"text-align: right;\">\n",
       "      <th></th>\n",
       "      <th>id</th>\n",
       "      <th>host_id</th>\n",
       "      <th>latitude</th>\n",
       "      <th>longitude</th>\n",
       "      <th>Construction_year</th>\n",
       "      <th>minimum_nights</th>\n",
       "      <th>number_of_reviews</th>\n",
       "      <th>review_rate_number</th>\n",
       "      <th>calculated_host_listings_count</th>\n",
       "      <th>availability_365</th>\n",
       "      <th>license</th>\n",
       "    </tr>\n",
       "  </thead>\n",
       "  <tbody>\n",
       "    <tr>\n",
       "      <th>count</th>\n",
       "      <td>5.094000e+03</td>\n",
       "      <td>5.094000e+03</td>\n",
       "      <td>5086.000000</td>\n",
       "      <td>5086.000000</td>\n",
       "      <td>4959.000000</td>\n",
       "      <td>5010.000000</td>\n",
       "      <td>5086.000000</td>\n",
       "      <td>5001.000000</td>\n",
       "      <td>5071.000000</td>\n",
       "      <td>4946.000000</td>\n",
       "      <td>0.0</td>\n",
       "    </tr>\n",
       "    <tr>\n",
       "      <th>mean</th>\n",
       "      <td>2.407768e+06</td>\n",
       "      <td>4.873718e+10</td>\n",
       "      <td>40.728917</td>\n",
       "      <td>-73.960933</td>\n",
       "      <td>2012.367009</td>\n",
       "      <td>10.767066</td>\n",
       "      <td>56.785293</td>\n",
       "      <td>3.002200</td>\n",
       "      <td>2.501282</td>\n",
       "      <td>208.618884</td>\n",
       "      <td>NaN</td>\n",
       "    </tr>\n",
       "    <tr>\n",
       "      <th>std</th>\n",
       "      <td>8.122430e+05</td>\n",
       "      <td>2.849811e+10</td>\n",
       "      <td>0.051491</td>\n",
       "      <td>0.035623</td>\n",
       "      <td>5.781765</td>\n",
       "      <td>59.066311</td>\n",
       "      <td>76.666307</td>\n",
       "      <td>1.419083</td>\n",
       "      <td>6.262498</td>\n",
       "      <td>125.784695</td>\n",
       "      <td>NaN</td>\n",
       "    </tr>\n",
       "    <tr>\n",
       "      <th>min</th>\n",
       "      <td>1.001254e+06</td>\n",
       "      <td>1.316021e+08</td>\n",
       "      <td>40.508680</td>\n",
       "      <td>-74.239860</td>\n",
       "      <td>2003.000000</td>\n",
       "      <td>-12.000000</td>\n",
       "      <td>0.000000</td>\n",
       "      <td>1.000000</td>\n",
       "      <td>1.000000</td>\n",
       "      <td>-10.000000</td>\n",
       "      <td>NaN</td>\n",
       "    </tr>\n",
       "    <tr>\n",
       "      <th>25%</th>\n",
       "      <td>1.704552e+06</td>\n",
       "      <td>2.395864e+10</td>\n",
       "      <td>40.688657</td>\n",
       "      <td>-73.984565</td>\n",
       "      <td>2007.000000</td>\n",
       "      <td>2.000000</td>\n",
       "      <td>5.000000</td>\n",
       "      <td>2.000000</td>\n",
       "      <td>1.000000</td>\n",
       "      <td>99.000000</td>\n",
       "      <td>NaN</td>\n",
       "    </tr>\n",
       "    <tr>\n",
       "      <th>50%</th>\n",
       "      <td>2.407768e+06</td>\n",
       "      <td>4.812317e+10</td>\n",
       "      <td>40.722900</td>\n",
       "      <td>-73.960635</td>\n",
       "      <td>2012.000000</td>\n",
       "      <td>3.000000</td>\n",
       "      <td>23.000000</td>\n",
       "      <td>3.000000</td>\n",
       "      <td>1.000000</td>\n",
       "      <td>209.000000</td>\n",
       "      <td>NaN</td>\n",
       "    </tr>\n",
       "    <tr>\n",
       "      <th>75%</th>\n",
       "      <td>3.110984e+06</td>\n",
       "      <td>7.353741e+10</td>\n",
       "      <td>40.762918</td>\n",
       "      <td>-73.944990</td>\n",
       "      <td>2017.000000</td>\n",
       "      <td>6.000000</td>\n",
       "      <td>78.000000</td>\n",
       "      <td>4.000000</td>\n",
       "      <td>2.000000</td>\n",
       "      <td>318.000000</td>\n",
       "      <td>NaN</td>\n",
       "    </tr>\n",
       "    <tr>\n",
       "      <th>max</th>\n",
       "      <td>3.814200e+06</td>\n",
       "      <td>9.872629e+10</td>\n",
       "      <td>40.908040</td>\n",
       "      <td>-73.733230</td>\n",
       "      <td>2022.000000</td>\n",
       "      <td>3455.000000</td>\n",
       "      <td>607.000000</td>\n",
       "      <td>5.000000</td>\n",
       "      <td>52.000000</td>\n",
       "      <td>426.000000</td>\n",
       "      <td>NaN</td>\n",
       "    </tr>\n",
       "  </tbody>\n",
       "</table>\n",
       "</div>"
      ],
      "text/plain": [
       "                 id       host_id     latitude    longitude  \\\n",
       "count  5.094000e+03  5.094000e+03  5086.000000  5086.000000   \n",
       "mean   2.407768e+06  4.873718e+10    40.728917   -73.960933   \n",
       "std    8.122430e+05  2.849811e+10     0.051491     0.035623   \n",
       "min    1.001254e+06  1.316021e+08    40.508680   -74.239860   \n",
       "25%    1.704552e+06  2.395864e+10    40.688657   -73.984565   \n",
       "50%    2.407768e+06  4.812317e+10    40.722900   -73.960635   \n",
       "75%    3.110984e+06  7.353741e+10    40.762918   -73.944990   \n",
       "max    3.814200e+06  9.872629e+10    40.908040   -73.733230   \n",
       "\n",
       "       Construction_year  minimum_nights  number_of_reviews  \\\n",
       "count        4959.000000     5010.000000        5086.000000   \n",
       "mean         2012.367009       10.767066          56.785293   \n",
       "std             5.781765       59.066311          76.666307   \n",
       "min          2003.000000      -12.000000           0.000000   \n",
       "25%          2007.000000        2.000000           5.000000   \n",
       "50%          2012.000000        3.000000          23.000000   \n",
       "75%          2017.000000        6.000000          78.000000   \n",
       "max          2022.000000     3455.000000         607.000000   \n",
       "\n",
       "       review_rate_number  calculated_host_listings_count  availability_365  \\\n",
       "count         5001.000000                     5071.000000       4946.000000   \n",
       "mean             3.002200                        2.501282        208.618884   \n",
       "std              1.419083                        6.262498        125.784695   \n",
       "min              1.000000                        1.000000        -10.000000   \n",
       "25%              2.000000                        1.000000         99.000000   \n",
       "50%              3.000000                        1.000000        209.000000   \n",
       "75%              4.000000                        2.000000        318.000000   \n",
       "max              5.000000                       52.000000        426.000000   \n",
       "\n",
       "       license  \n",
       "count      0.0  \n",
       "mean       NaN  \n",
       "std        NaN  \n",
       "min        NaN  \n",
       "25%        NaN  \n",
       "50%        NaN  \n",
       "75%        NaN  \n",
       "max        NaN  "
      ]
     },
     "execution_count": 92,
     "metadata": {},
     "output_type": "execute_result"
    }
   ],
   "source": [
    "#getting general summary statistics of the dataset\n",
    "data.describe()"
   ]
  },
  {
   "cell_type": "code",
   "execution_count": 93,
   "metadata": {},
   "outputs": [
    {
     "name": "stdout",
     "output_type": "stream",
     "text": [
      "5094\n",
      "26\n"
     ]
    }
   ],
   "source": [
    "#Checking for number of columns\n",
    "no_of_rows=data.shape[0]\n",
    "no_of_columns=data.shape[1]\n",
    "print(no_of_rows)\n",
    "print(no_of_columns)"
   ]
  },
  {
   "cell_type": "markdown",
   "metadata": {},
   "source": [
    "this dataset has 5096 rows and 26 columns"
   ]
  },
  {
   "cell_type": "code",
   "execution_count": 94,
   "metadata": {},
   "outputs": [
    {
     "data": {
      "text/plain": [
       "id                                  int64\n",
       "name                               object\n",
       "host_id                             int64\n",
       "host_identity_verified             object\n",
       "host_name                          object\n",
       "neighbourhood_group                object\n",
       "neighbourhood                      object\n",
       "latitude                          float64\n",
       "longitude                         float64\n",
       "country                            object\n",
       "country_code                       object\n",
       "instant_bookable                   object\n",
       "cancellation_policy                object\n",
       "room_type                          object\n",
       "Construction_year                 float64\n",
       "price                              object\n",
       "service_fee                        object\n",
       "minimum_nights                    float64\n",
       "number_of_reviews                 float64\n",
       "last_review                        object\n",
       "reviews_per_month                  object\n",
       "review_rate_number                float64\n",
       "calculated_host_listings_count    float64\n",
       "availability_365                  float64\n",
       "house_rules                        object\n",
       "license                           float64\n",
       "dtype: object"
      ]
     },
     "execution_count": 94,
     "metadata": {},
     "output_type": "execute_result"
    }
   ],
   "source": [
    "#Checking the data types of our columns\n",
    "#Knowing the datatype helps with detecting \n",
    "data.dtypes"
   ]
  },
  {
   "cell_type": "markdown",
   "metadata": {},
   "source": [
    "This data types has three data types;integers(whole numbers),float(numeric values with decimal numbers) and object data types."
   ]
  },
  {
   "cell_type": "code",
   "execution_count": 95,
   "metadata": {},
   "outputs": [
    {
     "data": {
      "text/plain": [
       "id                                   0\n",
       "name                                58\n",
       "host_id                              0\n",
       "host_identity_verified              73\n",
       "host_name                            1\n",
       "neighbourhood_group                 27\n",
       "neighbourhood                       16\n",
       "latitude                             8\n",
       "longitude                            8\n",
       "country                             50\n",
       "country_code                        79\n",
       "instant_bookable                    33\n",
       "cancellation_policy                 50\n",
       "room_type                            0\n",
       "Construction_year                  135\n",
       "price                               11\n",
       "service_fee                         15\n",
       "minimum_nights                      84\n",
       "number_of_reviews                    8\n",
       "last_review                        436\n",
       "reviews_per_month                  436\n",
       "review_rate_number                  93\n",
       "calculated_host_listings_count      23\n",
       "availability_365                   148\n",
       "house_rules                       1616\n",
       "license                           5094\n",
       "dtype: int64"
      ]
     },
     "execution_count": 95,
     "metadata": {},
     "output_type": "execute_result"
    }
   ],
   "source": [
    "#DATA CLEANING \n",
    "#HANDLING MISSING VALUES\n",
    "#general view of how many missing values there is per column \n",
    "missing_values_count=data.isnull().sum()\n",
    "missing_values_count[0:26]\n"
   ]
  },
  {
   "cell_type": "markdown",
   "metadata": {},
   "source": [
    "almost all the columns have missing values apart from the id,room type and host Id columns."
   ]
  },
  {
   "cell_type": "code",
   "execution_count": 96,
   "metadata": {},
   "outputs": [],
   "source": [
    "#DROPPING ROWS WITH MISSING VALUES USING THE dropna() function\n",
    "data.dropna(subset=[\"latitude\",\"longitude\",\"number_of_reviews\",\"host_name\",\"name\",\n",
    "                    \"Construction_year\"],inplace=True)"
   ]
  },
  {
   "cell_type": "markdown",
   "metadata": {},
   "source": [
    "Dropping the five columns with missing values made sense because the values were missing probably because they were not recorded and not because they do not exist and it makes sense to drop them rather than guessing what they might have been based on the other values in that column and row. You cannot guess the hosts' names and the names of the airbnb hence dropping the rows with this missing information."
   ]
  },
  {
   "cell_type": "code",
   "execution_count": 97,
   "metadata": {},
   "outputs": [],
   "source": [
    "#DROPPING ROWS WITH MISSING NUMERIC VALUES\n",
    "data.dropna(subset=[\"price\",\"service_fee\",],inplace=True)\n",
    "data.dropna(subset=[\"last_review\"],inplace=True)"
   ]
  },
  {
   "cell_type": "markdown",
   "metadata": {},
   "source": [
    "it is hard to predict or guess the dates(in the last review column) date hence dropping the rows with the missing values."
   ]
  },
  {
   "cell_type": "code",
   "execution_count": 98,
   "metadata": {},
   "outputs": [],
   "source": [
    "data.dropna(subset=[\"reviews_per_month\"],inplace=True)\n",
    "data.dropna(subset=[\"minimum_nights\"],inplace=True)\n",
    "data.dropna(subset=[\"availability_365\"],inplace=True)"
   ]
  },
  {
   "cell_type": "code",
   "execution_count": 99,
   "metadata": {},
   "outputs": [],
   "source": [
    "#DATA IMPUTATION USING THE fillna() function\n",
    "#filling in rows with missing values in some columns\n",
    "data[\"country\"].fillna(\"United States\",inplace=True)\n",
    "data[\"country_code\"].fillna(\"US\",inplace=True)"
   ]
  },
  {
   "cell_type": "markdown",
   "metadata": {},
   "source": [
    "Since this is New York's city data,the country must be the United States and the country code must be US hence replacing the missing values with United states and US respectively .\n",
    "The assumption being that the missing values were just not recorded."
   ]
  },
  {
   "cell_type": "code",
   "execution_count": 100,
   "metadata": {},
   "outputs": [],
   "source": [
    "data[\"neighbourhood_group\"].fillna(\"Manhattan\",inplace=True)\n",
    "data[\"neighbourhood\"].fillna(\"Upper West Side\",inplace=True)\n",
    "data[\"host_identity_verified\"].fillna(\"verified\",inplace=True)\n",
    "data[\"instant_bookable\"].fillna(\"TRUE\",inplace=True)\n",
    "data[\"cancellation_policy\"].fillna(\"moderate\",inplace=True)"
   ]
  },
  {
   "cell_type": "code",
   "execution_count": 101,
   "metadata": {},
   "outputs": [],
   "source": [
    "#DATA IMPUTATION USING THE MEAN FUNCTION\n",
    "data[\"review_rate_number\"].fillna(data[\"review_rate_number\"].mean(),inplace=True)\n",
    "data[\"calculated_host_listings_count\"].fillna(data[\"calculated_host_listings_count\"].mean(),inplace=True)\n",
    "#using mean to fill in the numeric values\n",
    "data[\"Construction_year\"].fillna(data[\"Construction_year\"].mean(),inplace=True)"
   ]
  },
  {
   "cell_type": "code",
   "execution_count": 102,
   "metadata": {},
   "outputs": [],
   "source": [
    "#Filling in the missing values in the house rules and license column\n",
    "data[\"house_rules\"].fillna(\"none\",inplace=True)\n",
    "data[\"license\"].fillna(\"none\",inplace=True)"
   ]
  },
  {
   "cell_type": "markdown",
   "metadata": {},
   "source": [
    "The house rules and licence columns have a lot of missing values.\n",
    "In this case, though, the data is missing because,probably the airbnb owners had no written house rules for their airbnbs\n",
    "And if there was no house rules then it doesn't make sense to guess what the rules and licence were.\n",
    " For this columns, it would make more sense to add a third value like \"none\" and use that to replace the NA's.\n",
    " none represents no rules or licence."
   ]
  },
  {
   "cell_type": "code",
   "execution_count": 103,
   "metadata": {},
   "outputs": [
    {
     "data": {
      "text/plain": [
       "id                                0\n",
       "name                              0\n",
       "host_id                           0\n",
       "host_identity_verified            0\n",
       "host_name                         0\n",
       "neighbourhood_group               0\n",
       "neighbourhood                     0\n",
       "latitude                          0\n",
       "longitude                         0\n",
       "country                           0\n",
       "country_code                      0\n",
       "instant_bookable                  0\n",
       "cancellation_policy               0\n",
       "room_type                         0\n",
       "Construction_year                 0\n",
       "price                             0\n",
       "service_fee                       0\n",
       "minimum_nights                    0\n",
       "number_of_reviews                 0\n",
       "last_review                       0\n",
       "reviews_per_month                 0\n",
       "review_rate_number                0\n",
       "calculated_host_listings_count    0\n",
       "availability_365                  0\n",
       "house_rules                       0\n",
       "license                           0\n",
       "dtype: int64"
      ]
     },
     "execution_count": 103,
     "metadata": {},
     "output_type": "execute_result"
    }
   ],
   "source": [
    "#checking if the rows with missing values have been filled and dropped\n",
    "missing_values_count=data.isnull().sum()\n",
    "missing_values_count[0:26]"
   ]
  },
  {
   "cell_type": "markdown",
   "metadata": {},
   "source": [
    "all the missing values have been filled and dropped and this dataset has no missing values."
   ]
  },
  {
   "cell_type": "code",
   "execution_count": 104,
   "metadata": {},
   "outputs": [
    {
     "name": "stdout",
     "output_type": "stream",
     "text": [
      "           id                                              name      host_id  \\\n",
      "0     1001254                Clean & quiet apt home by the park  80014485718   \n",
      "1     1002102                             Skylit Midtown Castle  52335172823   \n",
      "2     1002403               THE VILLAGE OF HARLEM....NEW YORK !  78829239556   \n",
      "4     1003689  Entire Apt: Spacious Studio/Loft by central park  92037596077   \n",
      "5     1004098         Large Cozy 1 BR Apartment In Midtown East  45498551794   \n",
      "...       ...                                               ...          ...   \n",
      "5088  3811438            Great Room for International Students!  78573634300   \n",
      "5089  3811991                                    Sunny/Cozy 1BD  12514109792   \n",
      "5090  3812543               Home Away from Home-Room in Midtown   7545062881   \n",
      "5091  3813095                Amazing LOFT in Prime Williamsburg  34705707902   \n",
      "5092  3813648                      Private Room in Williamsburg  16798739375   \n",
      "\n",
      "     host_identity_verified host_name neighbourhood_group   neighbourhood  \\\n",
      "0               unconfirmed  Madaline            Brooklyn      Kensington   \n",
      "1                  verified     Jenna           Manhattan         Midtown   \n",
      "2                  verified     Elise           Manhattan          Harlem   \n",
      "4                  verified    Lyndon           Manhattan     East Harlem   \n",
      "5                  verified  Michelle           Manhattan     Murray Hill   \n",
      "...                     ...       ...                 ...             ...   \n",
      "5088            unconfirmed    Sharon               Bronx       Wakefield   \n",
      "5089            unconfirmed     Frank            Brooklyn   Crown Heights   \n",
      "5090               verified     Marco           Manhattan  Hell's Kitchen   \n",
      "5091               verified    Maggie            Brooklyn      Greenpoint   \n",
      "5092               verified   Caitlin            Brooklyn    Williamsburg   \n",
      "\n",
      "      latitude  longitude        country  ... service_fee minimum_nights  \\\n",
      "0     40.64749  -73.97237  United States  ...       $193            10.0   \n",
      "1     40.75362  -73.98377  United States  ...        $28            30.0   \n",
      "2     40.80902  -73.94190  United States  ...       $124             3.0   \n",
      "4     40.79851  -73.94399  United States  ...        $41            10.0   \n",
      "5     40.74767  -73.97500  United States  ...       $115             3.0   \n",
      "...        ...        ...            ...  ...         ...            ...   \n",
      "5088  40.88855  -73.85127  United States  ...       $222             7.0   \n",
      "5089  40.67370  -73.95335  United States  ...       $172            30.0   \n",
      "5090  40.76625  -73.99387  United States  ...       $160             3.0   \n",
      "5091  40.71952  -73.94844  United States  ...        $50             5.0   \n",
      "5092  40.71202  -73.96665  United States  ...        $76             5.0   \n",
      "\n",
      "     number_of_reviews  last_review  reviews_per_month review_rate_number  \\\n",
      "0                  9.0   10/19/2021               0.21                4.0   \n",
      "1                 45.0    5/21/2022               0.38                4.0   \n",
      "2                  0.0  last review  reviews per month                5.0   \n",
      "4                  9.0    5/21/2023               0.72                3.0   \n",
      "5                 74.0  last review  reviews per month                3.0   \n",
      "...                ...          ...                ...                ...   \n",
      "5088              12.0    9/15/2018               0.55                3.0   \n",
      "5089              99.0   01/06/2019               1.67                5.0   \n",
      "5090             168.0    6/23/2019               2.88                5.0   \n",
      "5091               1.0    5/14/2016               0.03                5.0   \n",
      "5092               2.0   01/04/2015               0.03                2.0   \n",
      "\n",
      "     calculated_host_listings_count  availability_365  \\\n",
      "0                               6.0             286.0   \n",
      "1                               2.0             228.0   \n",
      "2                               1.0             352.0   \n",
      "4                               1.0             289.0   \n",
      "5                               1.0             374.0   \n",
      "...                             ...               ...   \n",
      "5088                            1.0             342.0   \n",
      "5089                            3.0             219.0   \n",
      "5090                            2.0             356.0   \n",
      "5091                            2.0             185.0   \n",
      "5092                            1.0              44.0   \n",
      "\n",
      "                                            house_rules license  \n",
      "0     Clean up and treat the home the way you'd like...    none  \n",
      "1     Pet friendly but please confirm with me if the...    none  \n",
      "2     I encourage you to use my kitchen, cooking and...    none  \n",
      "4     Please no smoking in the house, porch or on th...    none  \n",
      "5                     No smoking, please, and no drugs.    none  \n",
      "...                                                 ...     ...  \n",
      "5088  Absolutely no smoking!  It is a ground level a...    none  \n",
      "5089                                               none    none  \n",
      "5090  - Check-in is after 12PM (noon) - No smoking! ...    none  \n",
      "5091  No parties or pets.  Please be courteous and k...    none  \n",
      "5092                                               none    none  \n",
      "\n",
      "[4282 rows x 26 columns]\n"
     ]
    }
   ],
   "source": [
    "#checking the total remaining rows after handling missing values\n",
    "print(data)"
   ]
  },
  {
   "cell_type": "markdown",
   "metadata": {},
   "source": [
    "The remaining rows are 4282 after handling missing values."
   ]
  },
  {
   "cell_type": "code",
   "execution_count": 111,
   "metadata": {},
   "outputs": [
    {
     "name": "stdout",
     "output_type": "stream",
     "text": [
      "0     10/19/2021\n",
      "1      5/21/2022\n",
      "2    last review\n",
      "4      5/21/2023\n",
      "5    last review\n",
      "Name: last_review, dtype: object\n"
     ]
    }
   ],
   "source": [
    "#DATATYPE CONVERSION\n",
    "#PARSING DATES\n",
    "#reading the last review column that contains the dates\n",
    "print(data[\"last_review\"].head())"
   ]
  },
  {
   "cell_type": "markdown",
   "metadata": {},
   "source": [
    "The column coontaining date values has string datatype"
   ]
  },
  {
   "cell_type": "code",
   "execution_count": 107,
   "metadata": {},
   "outputs": [
    {
     "ename": "ValueError",
     "evalue": "time data \"last review\" doesn't match format \"%m/%d/%Y\", at position 2. You might want to try:\n    - passing `format` if your strings have a consistent format;\n    - passing `format='ISO8601'` if your strings are all ISO8601 but not necessarily in exactly the same format;\n    - passing `format='mixed'`, and the format will be inferred for each element individually. You might want to use `dayfirst` alongside this.",
     "output_type": "error",
     "traceback": [
      "\u001b[1;31m---------------------------------------------------------------------------\u001b[0m",
      "\u001b[1;31mValueError\u001b[0m                                Traceback (most recent call last)",
      "Cell \u001b[1;32mIn[107], line 2\u001b[0m\n\u001b[0;32m      1\u001b[0m \u001b[39m#creating a new column with the parsed date\u001b[39;00m\n\u001b[1;32m----> 2\u001b[0m data[\u001b[39m\"\u001b[39m\u001b[39mdate_parsed\u001b[39m\u001b[39m\"\u001b[39m]\u001b[39m=\u001b[39mpd\u001b[39m.\u001b[39;49mto_datetime(data[\u001b[39m\"\u001b[39;49m\u001b[39mlast_review\u001b[39;49m\u001b[39m\"\u001b[39;49m],\u001b[39mformat\u001b[39;49m\u001b[39m=\u001b[39;49m\u001b[39m\"\u001b[39;49m\u001b[39m%\u001b[39;49m\u001b[39mm/\u001b[39;49m\u001b[39m%d\u001b[39;49;00m\u001b[39m/\u001b[39;49m\u001b[39m%\u001b[39;49m\u001b[39mY\u001b[39;49m\u001b[39m\"\u001b[39;49m)\n\u001b[0;32m      3\u001b[0m data[\u001b[39m\"\u001b[39m\u001b[39mdate_parsed\u001b[39m\u001b[39m\"\u001b[39m]\u001b[39m.\u001b[39mhead()\n",
      "File \u001b[1;32mc:\\Users\\USER\\AppData\\Local\\Programs\\Python\\Python311\\Lib\\site-packages\\pandas\\core\\tools\\datetimes.py:1046\u001b[0m, in \u001b[0;36mto_datetime\u001b[1;34m(arg, errors, dayfirst, yearfirst, utc, format, exact, unit, infer_datetime_format, origin, cache)\u001b[0m\n\u001b[0;32m   1044\u001b[0m             result \u001b[39m=\u001b[39m arg\u001b[39m.\u001b[39mtz_localize(\u001b[39m\"\u001b[39m\u001b[39mutc\u001b[39m\u001b[39m\"\u001b[39m)\n\u001b[0;32m   1045\u001b[0m \u001b[39melif\u001b[39;00m \u001b[39misinstance\u001b[39m(arg, ABCSeries):\n\u001b[1;32m-> 1046\u001b[0m     cache_array \u001b[39m=\u001b[39m _maybe_cache(arg, \u001b[39mformat\u001b[39;49m, cache, convert_listlike)\n\u001b[0;32m   1047\u001b[0m     \u001b[39mif\u001b[39;00m \u001b[39mnot\u001b[39;00m cache_array\u001b[39m.\u001b[39mempty:\n\u001b[0;32m   1048\u001b[0m         result \u001b[39m=\u001b[39m arg\u001b[39m.\u001b[39mmap(cache_array)\n",
      "File \u001b[1;32mc:\\Users\\USER\\AppData\\Local\\Programs\\Python\\Python311\\Lib\\site-packages\\pandas\\core\\tools\\datetimes.py:250\u001b[0m, in \u001b[0;36m_maybe_cache\u001b[1;34m(arg, format, cache, convert_listlike)\u001b[0m\n\u001b[0;32m    248\u001b[0m unique_dates \u001b[39m=\u001b[39m unique(arg)\n\u001b[0;32m    249\u001b[0m \u001b[39mif\u001b[39;00m \u001b[39mlen\u001b[39m(unique_dates) \u001b[39m<\u001b[39m \u001b[39mlen\u001b[39m(arg):\n\u001b[1;32m--> 250\u001b[0m     cache_dates \u001b[39m=\u001b[39m convert_listlike(unique_dates, \u001b[39mformat\u001b[39;49m)\n\u001b[0;32m    251\u001b[0m     \u001b[39m# GH#45319\u001b[39;00m\n\u001b[0;32m    252\u001b[0m     \u001b[39mtry\u001b[39;00m:\n",
      "File \u001b[1;32mc:\\Users\\USER\\AppData\\Local\\Programs\\Python\\Python311\\Lib\\site-packages\\pandas\\core\\tools\\datetimes.py:453\u001b[0m, in \u001b[0;36m_convert_listlike_datetimes\u001b[1;34m(arg, format, name, utc, unit, errors, dayfirst, yearfirst, exact)\u001b[0m\n\u001b[0;32m    451\u001b[0m \u001b[39m# `format` could be inferred, or user didn't ask for mixed-format parsing.\u001b[39;00m\n\u001b[0;32m    452\u001b[0m \u001b[39mif\u001b[39;00m \u001b[39mformat\u001b[39m \u001b[39mis\u001b[39;00m \u001b[39mnot\u001b[39;00m \u001b[39mNone\u001b[39;00m \u001b[39mand\u001b[39;00m \u001b[39mformat\u001b[39m \u001b[39m!=\u001b[39m \u001b[39m\"\u001b[39m\u001b[39mmixed\u001b[39m\u001b[39m\"\u001b[39m:\n\u001b[1;32m--> 453\u001b[0m     \u001b[39mreturn\u001b[39;00m _array_strptime_with_fallback(arg, name, utc, \u001b[39mformat\u001b[39;49m, exact, errors)\n\u001b[0;32m    455\u001b[0m result, tz_parsed \u001b[39m=\u001b[39m objects_to_datetime64ns(\n\u001b[0;32m    456\u001b[0m     arg,\n\u001b[0;32m    457\u001b[0m     dayfirst\u001b[39m=\u001b[39mdayfirst,\n\u001b[1;32m   (...)\u001b[0m\n\u001b[0;32m    461\u001b[0m     allow_object\u001b[39m=\u001b[39m\u001b[39mTrue\u001b[39;00m,\n\u001b[0;32m    462\u001b[0m )\n\u001b[0;32m    464\u001b[0m \u001b[39mif\u001b[39;00m tz_parsed \u001b[39mis\u001b[39;00m \u001b[39mnot\u001b[39;00m \u001b[39mNone\u001b[39;00m:\n\u001b[0;32m    465\u001b[0m     \u001b[39m# We can take a shortcut since the datetime64 numpy array\u001b[39;00m\n\u001b[0;32m    466\u001b[0m     \u001b[39m# is in UTC\u001b[39;00m\n",
      "File \u001b[1;32mc:\\Users\\USER\\AppData\\Local\\Programs\\Python\\Python311\\Lib\\site-packages\\pandas\\core\\tools\\datetimes.py:484\u001b[0m, in \u001b[0;36m_array_strptime_with_fallback\u001b[1;34m(arg, name, utc, fmt, exact, errors)\u001b[0m\n\u001b[0;32m    473\u001b[0m \u001b[39mdef\u001b[39;00m \u001b[39m_array_strptime_with_fallback\u001b[39m(\n\u001b[0;32m    474\u001b[0m     arg,\n\u001b[0;32m    475\u001b[0m     name,\n\u001b[1;32m   (...)\u001b[0m\n\u001b[0;32m    479\u001b[0m     errors: \u001b[39mstr\u001b[39m,\n\u001b[0;32m    480\u001b[0m ) \u001b[39m-\u001b[39m\u001b[39m>\u001b[39m Index:\n\u001b[0;32m    481\u001b[0m \u001b[39m    \u001b[39m\u001b[39m\"\"\"\u001b[39;00m\n\u001b[0;32m    482\u001b[0m \u001b[39m    Call array_strptime, with fallback behavior depending on 'errors'.\u001b[39;00m\n\u001b[0;32m    483\u001b[0m \u001b[39m    \"\"\"\u001b[39;00m\n\u001b[1;32m--> 484\u001b[0m     result, timezones \u001b[39m=\u001b[39m array_strptime(arg, fmt, exact\u001b[39m=\u001b[39;49mexact, errors\u001b[39m=\u001b[39;49merrors, utc\u001b[39m=\u001b[39;49mutc)\n\u001b[0;32m    485\u001b[0m     \u001b[39mif\u001b[39;00m \u001b[39many\u001b[39m(tz \u001b[39mis\u001b[39;00m \u001b[39mnot\u001b[39;00m \u001b[39mNone\u001b[39;00m \u001b[39mfor\u001b[39;00m tz \u001b[39min\u001b[39;00m timezones):\n\u001b[0;32m    486\u001b[0m         \u001b[39mreturn\u001b[39;00m _return_parsed_timezone_results(result, timezones, utc, name)\n",
      "File \u001b[1;32mc:\\Users\\USER\\AppData\\Local\\Programs\\Python\\Python311\\Lib\\site-packages\\pandas\\_libs\\tslibs\\strptime.pyx:530\u001b[0m, in \u001b[0;36mpandas._libs.tslibs.strptime.array_strptime\u001b[1;34m()\u001b[0m\n",
      "File \u001b[1;32mc:\\Users\\USER\\AppData\\Local\\Programs\\Python\\Python311\\Lib\\site-packages\\pandas\\_libs\\tslibs\\strptime.pyx:351\u001b[0m, in \u001b[0;36mpandas._libs.tslibs.strptime.array_strptime\u001b[1;34m()\u001b[0m\n",
      "\u001b[1;31mValueError\u001b[0m: time data \"last review\" doesn't match format \"%m/%d/%Y\", at position 2. You might want to try:\n    - passing `format` if your strings have a consistent format;\n    - passing `format='ISO8601'` if your strings are all ISO8601 but not necessarily in exactly the same format;\n    - passing `format='mixed'`, and the format will be inferred for each element individually. You might want to use `dayfirst` alongside this."
     ]
    }
   ],
   "source": [
    "#creating a new column with the parsed date\n",
    "data[\"date_parsed\"]=pd.to_datetime(data[\"last_review\"],format=\"%m/%d/%Y\")\n",
    "data[\"date_parsed\"].head()"
   ]
  },
  {
   "cell_type": "markdown",
   "metadata": {},
   "source": [
    "The column containing dates has been converted from object to datetime datatime"
   ]
  }
 ],
 "metadata": {
  "kernelspec": {
   "display_name": "Python 3",
   "language": "python",
   "name": "python3"
  },
  "language_info": {
   "codemirror_mode": {
    "name": "ipython",
    "version": 3
   },
   "file_extension": ".py",
   "mimetype": "text/x-python",
   "name": "python",
   "nbconvert_exporter": "python",
   "pygments_lexer": "ipython3",
   "version": "3.11.4"
  },
  "orig_nbformat": 4
 },
 "nbformat": 4,
 "nbformat_minor": 2
}
