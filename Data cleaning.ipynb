{
 "cells": [
  {
   "cell_type": "code",
   "execution_count": 113,
   "metadata": {},
   "outputs": [],
   "source": [
    "#Loading the data in jupyter notebook\n",
    "import numpy as np\n",
    "import pandas as pd\n",
    "data=pd.read_csv(\"Airbnb_data.csv\")"
   ]
  },
  {
   "cell_type": "code",
   "execution_count": 114,
   "metadata": {},
   "outputs": [
    {
     "name": "stdout",
     "output_type": "stream",
     "text": [
      "Index(['id', 'name', 'host_id', 'host_identity_verified', 'host_name',\n",
      "       'neighbourhood_group', 'neighbourhood', 'latitude', 'longitude',\n",
      "       'country', 'country_code', 'instant_bookable', 'cancellation_policy',\n",
      "       'room_type', 'Construction_year', 'price', 'service_fee',\n",
      "       'minimum_nights', 'number_of_reviews', 'last_review',\n",
      "       'reviews_per_month', 'review_rate_number',\n",
      "       'calculated_host_listings_count', 'availability_365', 'house_rules',\n",
      "       'license'],\n",
      "      dtype='object')\n"
     ]
    },
    {
     "data": {
      "text/html": [
       "<div>\n",
       "<style scoped>\n",
       "    .dataframe tbody tr th:only-of-type {\n",
       "        vertical-align: middle;\n",
       "    }\n",
       "\n",
       "    .dataframe tbody tr th {\n",
       "        vertical-align: top;\n",
       "    }\n",
       "\n",
       "    .dataframe thead th {\n",
       "        text-align: right;\n",
       "    }\n",
       "</style>\n",
       "<table border=\"1\" class=\"dataframe\">\n",
       "  <thead>\n",
       "    <tr style=\"text-align: right;\">\n",
       "      <th></th>\n",
       "      <th>id</th>\n",
       "      <th>name</th>\n",
       "      <th>host_id</th>\n",
       "      <th>host_identity_verified</th>\n",
       "      <th>host_name</th>\n",
       "      <th>neighbourhood_group</th>\n",
       "      <th>neighbourhood</th>\n",
       "      <th>latitude</th>\n",
       "      <th>longitude</th>\n",
       "      <th>country</th>\n",
       "      <th>...</th>\n",
       "      <th>service_fee</th>\n",
       "      <th>minimum_nights</th>\n",
       "      <th>number_of_reviews</th>\n",
       "      <th>last_review</th>\n",
       "      <th>reviews_per_month</th>\n",
       "      <th>review_rate_number</th>\n",
       "      <th>calculated_host_listings_count</th>\n",
       "      <th>availability_365</th>\n",
       "      <th>house_rules</th>\n",
       "      <th>license</th>\n",
       "    </tr>\n",
       "  </thead>\n",
       "  <tbody>\n",
       "    <tr>\n",
       "      <th>0</th>\n",
       "      <td>1001254</td>\n",
       "      <td>Clean &amp; quiet apt home by the park</td>\n",
       "      <td>80014485718</td>\n",
       "      <td>unconfirmed</td>\n",
       "      <td>Madaline</td>\n",
       "      <td>Brooklyn</td>\n",
       "      <td>Kensington</td>\n",
       "      <td>40.64749</td>\n",
       "      <td>-73.97237</td>\n",
       "      <td>United States</td>\n",
       "      <td>...</td>\n",
       "      <td>$193</td>\n",
       "      <td>10.0</td>\n",
       "      <td>9.0</td>\n",
       "      <td>10/19/2021</td>\n",
       "      <td>0.21</td>\n",
       "      <td>4.0</td>\n",
       "      <td>6.0</td>\n",
       "      <td>286.0</td>\n",
       "      <td>Clean up and treat the home the way you'd like...</td>\n",
       "      <td>NaN</td>\n",
       "    </tr>\n",
       "    <tr>\n",
       "      <th>1</th>\n",
       "      <td>1002102</td>\n",
       "      <td>Skylit Midtown Castle</td>\n",
       "      <td>52335172823</td>\n",
       "      <td>verified</td>\n",
       "      <td>Jenna</td>\n",
       "      <td>Manhattan</td>\n",
       "      <td>Midtown</td>\n",
       "      <td>40.75362</td>\n",
       "      <td>-73.98377</td>\n",
       "      <td>United States</td>\n",
       "      <td>...</td>\n",
       "      <td>$28</td>\n",
       "      <td>30.0</td>\n",
       "      <td>45.0</td>\n",
       "      <td>5/21/2022</td>\n",
       "      <td>0.38</td>\n",
       "      <td>4.0</td>\n",
       "      <td>2.0</td>\n",
       "      <td>228.0</td>\n",
       "      <td>Pet friendly but please confirm with me if the...</td>\n",
       "      <td>NaN</td>\n",
       "    </tr>\n",
       "    <tr>\n",
       "      <th>2</th>\n",
       "      <td>1002403</td>\n",
       "      <td>THE VILLAGE OF HARLEM....NEW YORK !</td>\n",
       "      <td>78829239556</td>\n",
       "      <td>NaN</td>\n",
       "      <td>Elise</td>\n",
       "      <td>Manhattan</td>\n",
       "      <td>Harlem</td>\n",
       "      <td>40.80902</td>\n",
       "      <td>-73.94190</td>\n",
       "      <td>United States</td>\n",
       "      <td>...</td>\n",
       "      <td>$124</td>\n",
       "      <td>3.0</td>\n",
       "      <td>0.0</td>\n",
       "      <td>NaN</td>\n",
       "      <td>NaN</td>\n",
       "      <td>5.0</td>\n",
       "      <td>1.0</td>\n",
       "      <td>352.0</td>\n",
       "      <td>I encourage you to use my kitchen, cooking and...</td>\n",
       "      <td>NaN</td>\n",
       "    </tr>\n",
       "    <tr>\n",
       "      <th>3</th>\n",
       "      <td>1002755</td>\n",
       "      <td>NaN</td>\n",
       "      <td>85098326012</td>\n",
       "      <td>unconfirmed</td>\n",
       "      <td>Garry</td>\n",
       "      <td>Brooklyn</td>\n",
       "      <td>Clinton Hill</td>\n",
       "      <td>40.68514</td>\n",
       "      <td>-73.95976</td>\n",
       "      <td>United States</td>\n",
       "      <td>...</td>\n",
       "      <td>$74</td>\n",
       "      <td>30.0</td>\n",
       "      <td>270.0</td>\n",
       "      <td>07/05/2019</td>\n",
       "      <td>4.64</td>\n",
       "      <td>4.0</td>\n",
       "      <td>1.0</td>\n",
       "      <td>322.0</td>\n",
       "      <td>NaN</td>\n",
       "      <td>NaN</td>\n",
       "    </tr>\n",
       "    <tr>\n",
       "      <th>4</th>\n",
       "      <td>1003689</td>\n",
       "      <td>Entire Apt: Spacious Studio/Loft by central park</td>\n",
       "      <td>92037596077</td>\n",
       "      <td>verified</td>\n",
       "      <td>Lyndon</td>\n",
       "      <td>Manhattan</td>\n",
       "      <td>East Harlem</td>\n",
       "      <td>40.79851</td>\n",
       "      <td>-73.94399</td>\n",
       "      <td>United States</td>\n",
       "      <td>...</td>\n",
       "      <td>$41</td>\n",
       "      <td>10.0</td>\n",
       "      <td>9.0</td>\n",
       "      <td>11/19/2018</td>\n",
       "      <td>0.10</td>\n",
       "      <td>3.0</td>\n",
       "      <td>1.0</td>\n",
       "      <td>289.0</td>\n",
       "      <td>Please no smoking in the house, porch or on th...</td>\n",
       "      <td>NaN</td>\n",
       "    </tr>\n",
       "  </tbody>\n",
       "</table>\n",
       "<p>5 rows × 26 columns</p>\n",
       "</div>"
      ],
      "text/plain": [
       "        id                                              name      host_id  \\\n",
       "0  1001254                Clean & quiet apt home by the park  80014485718   \n",
       "1  1002102                             Skylit Midtown Castle  52335172823   \n",
       "2  1002403               THE VILLAGE OF HARLEM....NEW YORK !  78829239556   \n",
       "3  1002755                                               NaN  85098326012   \n",
       "4  1003689  Entire Apt: Spacious Studio/Loft by central park  92037596077   \n",
       "\n",
       "  host_identity_verified host_name neighbourhood_group neighbourhood  \\\n",
       "0            unconfirmed  Madaline            Brooklyn    Kensington   \n",
       "1               verified     Jenna           Manhattan       Midtown   \n",
       "2                    NaN     Elise           Manhattan        Harlem   \n",
       "3            unconfirmed     Garry            Brooklyn  Clinton Hill   \n",
       "4               verified    Lyndon           Manhattan   East Harlem   \n",
       "\n",
       "   latitude  longitude        country  ... service_fee minimum_nights  \\\n",
       "0  40.64749  -73.97237  United States  ...       $193            10.0   \n",
       "1  40.75362  -73.98377  United States  ...        $28            30.0   \n",
       "2  40.80902  -73.94190  United States  ...       $124             3.0   \n",
       "3  40.68514  -73.95976  United States  ...        $74            30.0   \n",
       "4  40.79851  -73.94399  United States  ...        $41            10.0   \n",
       "\n",
       "  number_of_reviews last_review  reviews_per_month review_rate_number  \\\n",
       "0               9.0  10/19/2021               0.21                4.0   \n",
       "1              45.0   5/21/2022               0.38                4.0   \n",
       "2               0.0         NaN                NaN                5.0   \n",
       "3             270.0  07/05/2019               4.64                4.0   \n",
       "4               9.0  11/19/2018               0.10                3.0   \n",
       "\n",
       "  calculated_host_listings_count  availability_365  \\\n",
       "0                            6.0             286.0   \n",
       "1                            2.0             228.0   \n",
       "2                            1.0             352.0   \n",
       "3                            1.0             322.0   \n",
       "4                            1.0             289.0   \n",
       "\n",
       "                                         house_rules license  \n",
       "0  Clean up and treat the home the way you'd like...     NaN  \n",
       "1  Pet friendly but please confirm with me if the...     NaN  \n",
       "2  I encourage you to use my kitchen, cooking and...     NaN  \n",
       "3                                                NaN     NaN  \n",
       "4  Please no smoking in the house, porch or on th...     NaN  \n",
       "\n",
       "[5 rows x 26 columns]"
      ]
     },
     "execution_count": 114,
     "metadata": {},
     "output_type": "execute_result"
    }
   ],
   "source": [
    "#Changing the dataheads to snake_case\n",
    "data.columns=data.columns.str.replace(\" \",\"_\")\n",
    "print(data.columns)\n",
    "#Getting general informatin about the dataset\n",
    "data.head()"
   ]
  },
  {
   "cell_type": "markdown",
   "metadata": {},
   "source": [
    "From the sample dataset shown above(the first five rows),it is clear that there are some missing values."
   ]
  },
  {
   "cell_type": "code",
   "execution_count": 115,
   "metadata": {},
   "outputs": [
    {
     "name": "stdout",
     "output_type": "stream",
     "text": [
      "5094\n",
      "26\n"
     ]
    }
   ],
   "source": [
    "#Checking for number of columns\n",
    "no_of_rows=data.shape[0]\n",
    "no_of_columns=data.shape[1]\n",
    "\n",
    "print(no_of_rows)\n",
    "print(no_of_columns)"
   ]
  },
  {
   "cell_type": "markdown",
   "metadata": {},
   "source": [
    "this dataset has 5096 rows and 26 columns"
   ]
  },
  {
   "cell_type": "code",
   "execution_count": 116,
   "metadata": {},
   "outputs": [
    {
     "data": {
      "text/plain": [
       "id                                  int64\n",
       "name                               object\n",
       "host_id                             int64\n",
       "host_identity_verified             object\n",
       "host_name                          object\n",
       "neighbourhood_group                object\n",
       "neighbourhood                      object\n",
       "latitude                          float64\n",
       "longitude                         float64\n",
       "country                            object\n",
       "country_code                       object\n",
       "instant_bookable                   object\n",
       "cancellation_policy                object\n",
       "room_type                          object\n",
       "Construction_year                 float64\n",
       "price                              object\n",
       "service_fee                        object\n",
       "minimum_nights                    float64\n",
       "number_of_reviews                 float64\n",
       "last_review                        object\n",
       "reviews_per_month                 float64\n",
       "review_rate_number                float64\n",
       "calculated_host_listings_count    float64\n",
       "availability_365                  float64\n",
       "house_rules                        object\n",
       "license                           float64\n",
       "dtype: object"
      ]
     },
     "execution_count": 116,
     "metadata": {},
     "output_type": "execute_result"
    }
   ],
   "source": [
    "#Checking the data types of our columns\n",
    "#Knowing the datatype helps with detecting \n",
    "data.dtypes"
   ]
  },
  {
   "cell_type": "markdown",
   "metadata": {},
   "source": [
    "This data types has three data types;integers(whole numbers),float(numeric values with decimal numbers) and object data types."
   ]
  },
  {
   "cell_type": "code",
   "execution_count": 117,
   "metadata": {},
   "outputs": [
    {
     "data": {
      "text/plain": [
       "id                                   0\n",
       "name                                58\n",
       "host_id                              0\n",
       "host_identity_verified              73\n",
       "host_name                           20\n",
       "neighbourhood_group                 27\n",
       "neighbourhood                       16\n",
       "latitude                             8\n",
       "longitude                            8\n",
       "country                             50\n",
       "country_code                        79\n",
       "instant_bookable                    79\n",
       "cancellation_policy                 50\n",
       "room_type                            0\n",
       "Construction_year                  135\n",
       "price                               11\n",
       "service_fee                         15\n",
       "minimum_nights                      84\n",
       "number_of_reviews                    8\n",
       "last_review                        479\n",
       "reviews_per_month                  465\n",
       "review_rate_number                  93\n",
       "calculated_host_listings_count      23\n",
       "availability_365                   148\n",
       "house_rules                       1616\n",
       "license                           5094\n",
       "dtype: int64"
      ]
     },
     "execution_count": 117,
     "metadata": {},
     "output_type": "execute_result"
    }
   ],
   "source": [
    "#DATA CLEANING \n",
    "#HANDLING MISSING VALUES\n",
    "#general view of how many missing values there is per column \n",
    "missing_values_count=data.isnull().sum()\n",
    "missing_values_count[0:26]"
   ]
  },
  {
   "cell_type": "markdown",
   "metadata": {},
   "source": [
    "almost all the columns have missing values apart from the id,room type and host Id columns"
   ]
  },
  {
   "cell_type": "code",
   "execution_count": 118,
   "metadata": {},
   "outputs": [
    {
     "name": "stdout",
     "output_type": "stream",
     "text": [
      "           id                                              name      host_id  \\\n",
      "0     1001254                Clean & quiet apt home by the park  80014485718   \n",
      "1     1002102                             Skylit Midtown Castle  52335172823   \n",
      "2     1002403               THE VILLAGE OF HARLEM....NEW YORK !  78829239556   \n",
      "4     1003689  Entire Apt: Spacious Studio/Loft by central park  92037596077   \n",
      "5     1004098         Large Cozy 1 BR Apartment In Midtown East  45498551794   \n",
      "...       ...                                               ...          ...   \n",
      "5089  3811991                                    Sunny/Cozy 1BD  12514109792   \n",
      "5090  3812543               Home Away from Home-Room in Midtown   7545062881   \n",
      "5091  3813095                Amazing LOFT in Prime Williamsburg  34705707902   \n",
      "5092  3813648                      Private Room in Williamsburg  16798739375   \n",
      "5093  3814200            Beautiful 1 BR - Downtown Union Square  81240766518   \n",
      "\n",
      "     host_identity_verified host_name neighbourhood_group   neighbourhood  \\\n",
      "0               unconfirmed  Madaline            Brooklyn      Kensington   \n",
      "1                  verified     Jenna           Manhattan         Midtown   \n",
      "2                       NaN     Elise           Manhattan          Harlem   \n",
      "4                  verified    Lyndon           Manhattan     East Harlem   \n",
      "5                  verified  Michelle           Manhattan     Murray Hill   \n",
      "...                     ...       ...                 ...             ...   \n",
      "5089            unconfirmed     Frank            Brooklyn   Crown Heights   \n",
      "5090               verified     Marco           Manhattan  Hell's Kitchen   \n",
      "5091               verified    Maggie            Brooklyn      Greenpoint   \n",
      "5092               verified   Caitlin            Brooklyn    Williamsburg   \n",
      "5093               verified     Heike           Manhattan    East Village   \n",
      "\n",
      "      latitude  longitude        country  ... service_fee minimum_nights  \\\n",
      "0     40.64749  -73.97237  United States  ...       $193            10.0   \n",
      "1     40.75362  -73.98377  United States  ...        $28            30.0   \n",
      "2     40.80902  -73.94190  United States  ...       $124             3.0   \n",
      "4     40.79851  -73.94399  United States  ...        $41            10.0   \n",
      "5     40.74767  -73.97500  United States  ...       $115             3.0   \n",
      "...        ...        ...            ...  ...         ...            ...   \n",
      "5089  40.67370  -73.95335  United States  ...       $172            30.0   \n",
      "5090  40.76625  -73.99387  United States  ...       $160             3.0   \n",
      "5091  40.71952  -73.94844  United States  ...        $50             5.0   \n",
      "5092  40.71202  -73.96665  United States  ...        $76             5.0   \n",
      "5093  40.73312  -73.99097  United States  ...        $51            62.0   \n",
      "\n",
      "     number_of_reviews last_review  reviews_per_month review_rate_number  \\\n",
      "0                  9.0  10/19/2021               0.21                4.0   \n",
      "1                 45.0   5/21/2022               0.38                4.0   \n",
      "2                  0.0         NaN                NaN                5.0   \n",
      "4                  9.0  11/19/2018               0.10                3.0   \n",
      "5                 74.0   6/22/2019               0.59                3.0   \n",
      "...                ...         ...                ...                ...   \n",
      "5089              99.0  01/06/2019               1.67                5.0   \n",
      "5090             168.0   6/23/2019               2.88                5.0   \n",
      "5091               1.0   5/14/2016               0.03                5.0   \n",
      "5092               2.0  01/04/2015               0.03                2.0   \n",
      "5093               0.0         NaN                NaN                2.0   \n",
      "\n",
      "     calculated_host_listings_count  availability_365  \\\n",
      "0                               6.0             286.0   \n",
      "1                               2.0             228.0   \n",
      "2                               1.0             352.0   \n",
      "4                               1.0             289.0   \n",
      "5                               1.0             374.0   \n",
      "...                             ...               ...   \n",
      "5089                            3.0             219.0   \n",
      "5090                            2.0             356.0   \n",
      "5091                            2.0             185.0   \n",
      "5092                            1.0              44.0   \n",
      "5093                            1.0             348.0   \n",
      "\n",
      "                                            house_rules license  \n",
      "0     Clean up and treat the home the way you'd like...     NaN  \n",
      "1     Pet friendly but please confirm with me if the...     NaN  \n",
      "2     I encourage you to use my kitchen, cooking and...     NaN  \n",
      "4     Please no smoking in the house, porch or on th...     NaN  \n",
      "5                     No smoking, please, and no drugs.     NaN  \n",
      "...                                                 ...     ...  \n",
      "5089                                                NaN     NaN  \n",
      "5090  - Check-in is after 12PM (noon) - No smoking! ...     NaN  \n",
      "5091  No parties or pets.  Please be courteous and k...     NaN  \n",
      "5092                                                NaN     NaN  \n",
      "5093                                                NaN     NaN  \n",
      "\n",
      "[4887 rows x 26 columns]\n"
     ]
    }
   ],
   "source": [
    "#dropping some values\n",
    "#dropping some columns with missing data points\n",
    "data.dropna(subset=[\"latitude\",\"longitude\",\"number_of_reviews\",\"host_name\",\"name\",\n",
    "                    \"Construction_year\"],inplace=True)\n",
    "print(data)"
   ]
  },
  {
   "cell_type": "markdown",
   "metadata": {},
   "source": [
    "Dropping the five columns with missing values made sense because the values were missing probably because they were not recorded and not because they do not exist and it makes sense to drop them rather than guessing what they might have been based on the other values in that column and row.\n",
    "You cannot guess the hosts' names and the names of the airbnb hence dropping the rows with this missing information."
   ]
  },
  {
   "cell_type": "code",
   "execution_count": 119,
   "metadata": {},
   "outputs": [],
   "source": [
    "#DATA IMPUTATION\n",
    "#filling in missing values in some columns\n",
    "data[\"country\"].fillna(\"United States\",inplace=True)\n",
    "data[\"country_code\"].fillna(\"US\",inplace=True)"
   ]
  },
  {
   "cell_type": "markdown",
   "metadata": {},
   "source": [
    "Since this is New York's city data,the country must be the United States and the country code must be US hence replacing the missing values with United states and US respectively makes more sense.\n",
    "The assumption being that the missing values were just not recorded."
   ]
  },
  {
   "cell_type": "code",
   "execution_count": 120,
   "metadata": {},
   "outputs": [],
   "source": [
    "data[\"neighbourhood_group\"].fillna(\"Manhattan\",inplace=True)\n",
    "data[\"neighbourhood\"].fillna(\"Upper West Side\",inplace=True)\n"
   ]
  },
  {
   "cell_type": "code",
   "execution_count": 121,
   "metadata": {},
   "outputs": [],
   "source": [
    "data[\"host_identity_verified\"].fillna(\"verified\",inplace=True)\n",
    "data[\"instant_bookable\"].fillna(\"TRUE\",inplace=True)"
   ]
  },
  {
   "cell_type": "code",
   "execution_count": 122,
   "metadata": {},
   "outputs": [],
   "source": [
    "data[\"cancellation_policy\"].fillna(\"moderate\",inplace=True)"
   ]
  },
  {
   "cell_type": "code",
   "execution_count": 123,
   "metadata": {},
   "outputs": [],
   "source": [
    "data[\"review_rate_number\"].fillna(data[\"review_rate_number\"].mean(),inplace=True)"
   ]
  },
  {
   "cell_type": "code",
   "execution_count": 124,
   "metadata": {},
   "outputs": [],
   "source": [
    "data[\"calculated_host_listings_count\"].fillna(data[\"calculated_host_listings_count\"].mean(),inplace=True)"
   ]
  },
  {
   "cell_type": "code",
   "execution_count": 125,
   "metadata": {},
   "outputs": [],
   "source": [
    "#using mean to fill in the numeric values\n",
    "data[\"Construction_year\"].fillna(data[\"Construction_year\"].mean(),inplace=True)"
   ]
  },
  {
   "cell_type": "code",
   "execution_count": 126,
   "metadata": {},
   "outputs": [],
   "source": [
    "#dropping missing numeric values\n",
    "data.dropna(subset=[\"price\",\"service_fee\",],inplace=True)"
   ]
  },
  {
   "cell_type": "code",
   "execution_count": 127,
   "metadata": {},
   "outputs": [],
   "source": [
    "data.dropna(subset=[\"last_review\"],inplace=True)"
   ]
  },
  {
   "cell_type": "markdown",
   "metadata": {},
   "source": [
    "it is hard to predict or guess the dates or get carry out data imputations on date hence dropping the missing values in the last review column."
   ]
  },
  {
   "cell_type": "code",
   "execution_count": 128,
   "metadata": {},
   "outputs": [],
   "source": [
    "data.dropna(subset=[\"reviews_per_month\"],inplace=True)"
   ]
  },
  {
   "cell_type": "code",
   "execution_count": 129,
   "metadata": {},
   "outputs": [],
   "source": [
    "data.dropna(subset=[\"minimum_nights\"],inplace=True)"
   ]
  },
  {
   "cell_type": "code",
   "execution_count": 130,
   "metadata": {},
   "outputs": [
    {
     "name": "stdout",
     "output_type": "stream",
     "text": [
      "           id                                              name      host_id  \\\n",
      "0     1001254                Clean & quiet apt home by the park  80014485718   \n",
      "1     1002102                             Skylit Midtown Castle  52335172823   \n",
      "4     1003689  Entire Apt: Spacious Studio/Loft by central park  92037596077   \n",
      "5     1004098         Large Cozy 1 BR Apartment In Midtown East  45498551794   \n",
      "6     1004650                                   BlissArtsSpace!  61300605564   \n",
      "...       ...                                               ...          ...   \n",
      "5088  3811438            Great Room for International Students!  78573634300   \n",
      "5089  3811991                                    Sunny/Cozy 1BD  12514109792   \n",
      "5090  3812543               Home Away from Home-Room in Midtown   7545062881   \n",
      "5091  3813095                Amazing LOFT in Prime Williamsburg  34705707902   \n",
      "5092  3813648                      Private Room in Williamsburg  16798739375   \n",
      "\n",
      "     host_identity_verified host_name neighbourhood_group       neighbourhood  \\\n",
      "0               unconfirmed  Madaline            Brooklyn          Kensington   \n",
      "1                  verified     Jenna           Manhattan             Midtown   \n",
      "4                  verified    Lyndon           Manhattan         East Harlem   \n",
      "5                  verified  Michelle           Manhattan         Murray Hill   \n",
      "6                  verified   Alberta            Brooklyn  Bedford-Stuyvesant   \n",
      "...                     ...       ...                 ...                 ...   \n",
      "5088            unconfirmed    Sharon               Bronx           Wakefield   \n",
      "5089            unconfirmed     Frank            Brooklyn       Crown Heights   \n",
      "5090               verified     Marco           Manhattan      Hell's Kitchen   \n",
      "5091               verified    Maggie            Brooklyn          Greenpoint   \n",
      "5092               verified   Caitlin            Brooklyn        Williamsburg   \n",
      "\n",
      "      latitude  longitude        country  ... service_fee minimum_nights  \\\n",
      "0     40.64749  -73.97237  United States  ...       $193            10.0   \n",
      "1     40.75362  -73.98377  United States  ...        $28            30.0   \n",
      "4     40.79851  -73.94399  United States  ...        $41            10.0   \n",
      "5     40.74767  -73.97500  United States  ...       $115             3.0   \n",
      "6     40.68688  -73.95596  United States  ...        $14            45.0   \n",
      "...        ...        ...            ...  ...         ...            ...   \n",
      "5088  40.88855  -73.85127  United States  ...       $222             7.0   \n",
      "5089  40.67370  -73.95335  United States  ...       $172            30.0   \n",
      "5090  40.76625  -73.99387  United States  ...       $160             3.0   \n",
      "5091  40.71952  -73.94844  United States  ...        $50             5.0   \n",
      "5092  40.71202  -73.96665  United States  ...        $76             5.0   \n",
      "\n",
      "     number_of_reviews last_review  reviews_per_month review_rate_number  \\\n",
      "0                  9.0  10/19/2021               0.21                4.0   \n",
      "1                 45.0   5/21/2022               0.38                4.0   \n",
      "4                  9.0  11/19/2018               0.10                3.0   \n",
      "5                 74.0   6/22/2019               0.59                3.0   \n",
      "6                 49.0  10/05/2017               0.40                5.0   \n",
      "...                ...         ...                ...                ...   \n",
      "5088              12.0   9/15/2018               0.55                3.0   \n",
      "5089              99.0  01/06/2019               1.67                5.0   \n",
      "5090             168.0   6/23/2019               2.88                5.0   \n",
      "5091               1.0   5/14/2016               0.03                5.0   \n",
      "5092               2.0  01/04/2015               0.03                2.0   \n",
      "\n",
      "     calculated_host_listings_count  availability_365  \\\n",
      "0                               6.0             286.0   \n",
      "1                               2.0             228.0   \n",
      "4                               1.0             289.0   \n",
      "5                               1.0             374.0   \n",
      "6                               1.0             224.0   \n",
      "...                             ...               ...   \n",
      "5088                            1.0             342.0   \n",
      "5089                            3.0             219.0   \n",
      "5090                            2.0             356.0   \n",
      "5091                            2.0             185.0   \n",
      "5092                            1.0              44.0   \n",
      "\n",
      "                                            house_rules license  \n",
      "0     Clean up and treat the home the way you'd like...     NaN  \n",
      "1     Pet friendly but please confirm with me if the...     NaN  \n",
      "4     Please no smoking in the house, porch or on th...     NaN  \n",
      "5                     No smoking, please, and no drugs.     NaN  \n",
      "6     Please no shoes in the house so bring slippers...     NaN  \n",
      "...                                                 ...     ...  \n",
      "5088  Absolutely no smoking!  It is a ground level a...     NaN  \n",
      "5089                                                NaN     NaN  \n",
      "5090  - Check-in is after 12PM (noon) - No smoking! ...     NaN  \n",
      "5091  No parties or pets.  Please be courteous and k...     NaN  \n",
      "5092                                                NaN     NaN  \n",
      "\n",
      "[4333 rows x 26 columns]\n"
     ]
    }
   ],
   "source": [
    "print(data)"
   ]
  },
  {
   "cell_type": "code",
   "execution_count": 131,
   "metadata": {},
   "outputs": [],
   "source": [
    "#Dropping the missing values in the availability column with zero\n",
    "data.dropna(subset=[\"availability_365\"],inplace=True)"
   ]
  },
  {
   "cell_type": "code",
   "execution_count": 132,
   "metadata": {},
   "outputs": [],
   "source": [
    "#Filling in the missing values in the house rules and license column\n",
    "data[\"house_rules\"].fillna(\"none\",inplace=True)\n",
    "data[\"license\"].fillna(\"none\",inplace=True)"
   ]
  },
  {
   "cell_type": "code",
   "execution_count": 133,
   "metadata": {},
   "outputs": [
    {
     "data": {
      "text/plain": [
       "id                                0\n",
       "name                              0\n",
       "host_id                           0\n",
       "host_identity_verified            0\n",
       "host_name                         0\n",
       "neighbourhood_group               0\n",
       "neighbourhood                     0\n",
       "latitude                          0\n",
       "longitude                         0\n",
       "country                           0\n",
       "country_code                      0\n",
       "instant_bookable                  0\n",
       "cancellation_policy               0\n",
       "room_type                         0\n",
       "Construction_year                 0\n",
       "price                             0\n",
       "service_fee                       0\n",
       "minimum_nights                    0\n",
       "number_of_reviews                 0\n",
       "last_review                       0\n",
       "reviews_per_month                 0\n",
       "review_rate_number                0\n",
       "calculated_host_listings_count    0\n",
       "availability_365                  0\n",
       "house_rules                       0\n",
       "license                           0\n",
       "dtype: int64"
      ]
     },
     "execution_count": 133,
     "metadata": {},
     "output_type": "execute_result"
    }
   ],
   "source": [
    "missing_values_count=data.isnull().sum()\n",
    "missing_values_count[0:26]"
   ]
  },
  {
   "cell_type": "markdown",
   "metadata": {},
   "source": [
    "all the missing values have been filled and dropped and this dataset has no missing values."
   ]
  },
  {
   "cell_type": "code",
   "execution_count": null,
   "metadata": {},
   "outputs": [],
   "source": [
    "#DATA TRANSFORMATION\n",
    "\n"
   ]
  }
 ],
 "metadata": {
  "kernelspec": {
   "display_name": "Python 3",
   "language": "python",
   "name": "python3"
  },
  "language_info": {
   "codemirror_mode": {
    "name": "ipython",
    "version": 3
   },
   "file_extension": ".py",
   "mimetype": "text/x-python",
   "name": "python",
   "nbconvert_exporter": "python",
   "pygments_lexer": "ipython3",
   "version": "3.11.4"
  },
  "orig_nbformat": 4
 },
 "nbformat": 4,
 "nbformat_minor": 2
}
